{
  "nbformat": 4,
  "nbformat_minor": 0,
  "metadata": {
    "file_extension": ".py",
    "kernelspec": {
      "display_name": "Python 3",
      "language": "python",
      "name": "python3"
    },
    "language_info": {
      "codemirror_mode": {
        "name": "ipython",
        "version": 3
      },
      "file_extension": ".py",
      "mimetype": "text/x-python",
      "name": "python",
      "nbconvert_exporter": "python",
      "pygments_lexer": "ipython3",
      "version": "3.7.3"
    },
    "mimetype": "text/x-python",
    "name": "python",
    "npconvert_exporter": "python",
    "pygments_lexer": "ipython3",
    "version": 3,
    "colab": {
      "name": "anc.ipynb",
      "provenance": [],
      "include_colab_link": true
    }
  },
  "cells": [
    {
      "cell_type": "markdown",
      "metadata": {
        "id": "view-in-github",
        "colab_type": "text"
      },
      "source": [
        "<a href=\"https://colab.research.google.com/github/leodenale/active-noise-cancelling/blob/master/anc.ipynb\" target=\"_parent\"><img src=\"https://colab.research.google.com/assets/colab-badge.svg\" alt=\"Open In Colab\"/></a>"
      ]
    },
    {
      "cell_type": "markdown",
      "metadata": {
        "id": "TGrjOuejMNmM",
        "colab_type": "text"
      },
      "source": [
        "# Active noise cancelling in Python"
      ]
    },
    {
      "cell_type": "code",
      "metadata": {
        "id": "SUfsY27NMfTN",
        "colab_type": "code",
        "colab": {
          "base_uri": "https://localhost:8080/",
          "height": 550
        },
        "outputId": "55a25a07-7ce4-4ac4-c738-affda0e24b1d"
      },
      "source": [
        "# Install pyaudio package\n",
        "!apt-get install python-pyaudio"
      ],
      "execution_count": 5,
      "outputs": [
        {
          "output_type": "stream",
          "text": [
            "Reading package lists... Done\n",
            "Building dependency tree       \n",
            "Reading state information... Done\n",
            "The following package was automatically installed and is no longer required:\n",
            "  libnvidia-common-430\n",
            "Use 'apt autoremove' to remove it.\n",
            "The following additional packages will be installed:\n",
            "  libportaudio2\n",
            "Suggested packages:\n",
            "  python-pyaudio-doc\n",
            "The following NEW packages will be installed:\n",
            "  libportaudio2 python-pyaudio\n",
            "0 upgraded, 2 newly installed, 0 to remove and 25 not upgraded.\n",
            "Need to get 88.6 kB of archives.\n",
            "After this operation, 324 kB of additional disk space will be used.\n",
            "Get:1 http://archive.ubuntu.com/ubuntu bionic/universe amd64 libportaudio2 amd64 19.6.0-1 [64.6 kB]\n",
            "Get:2 http://archive.ubuntu.com/ubuntu bionic/universe amd64 python-pyaudio amd64 0.2.11-1build2 [24.1 kB]\n",
            "Fetched 88.6 kB in 1s (92.5 kB/s)\n",
            "Selecting previously unselected package libportaudio2:amd64.\n",
            "(Reading database ... 134443 files and directories currently installed.)\n",
            "Preparing to unpack .../libportaudio2_19.6.0-1_amd64.deb ...\n",
            "Unpacking libportaudio2:amd64 (19.6.0-1) ...\n",
            "Selecting previously unselected package python-pyaudio.\n",
            "Preparing to unpack .../python-pyaudio_0.2.11-1build2_amd64.deb ...\n",
            "Unpacking python-pyaudio (0.2.11-1build2) ...\n",
            "Setting up libportaudio2:amd64 (19.6.0-1) ...\n",
            "Setting up python-pyaudio (0.2.11-1build2) ...\n",
            "Processing triggers for libc-bin (2.27-3ubuntu1) ...\n",
            "/sbin/ldconfig.real: /usr/local/lib/python3.6/dist-packages/ideep4py/lib/libmkldnn.so.0 is not a symbolic link\n",
            "\n"
          ],
          "name": "stdout"
        }
      ]
    },
    {
      "cell_type": "markdown",
      "metadata": {
        "id": "1M88f1QVMNmO",
        "colab_type": "text"
      },
      "source": [
        "*Import* the necessary libraries"
      ]
    },
    {
      "cell_type": "code",
      "metadata": {
        "id": "ixqpaGQpMNmP",
        "colab_type": "code",
        "colab": {
          "base_uri": "https://localhost:8080/",
          "height": 381
        },
        "outputId": "460f2ff7-907c-4cf6-dd9e-d4038b49264a"
      },
      "source": [
        "import pyaudio\n",
        "import os\n",
        "import struct\n",
        "import numpy as np\n",
        "import matplotlib.pyplot as plt\n",
        "import time\n",
        "from tkinter import TclError"
      ],
      "execution_count": 6,
      "outputs": [
        {
          "output_type": "error",
          "ename": "ModuleNotFoundError",
          "evalue": "ignored",
          "traceback": [
            "\u001b[0;31m---------------------------------------------------------------------------\u001b[0m",
            "\u001b[0;31mModuleNotFoundError\u001b[0m                       Traceback (most recent call last)",
            "\u001b[0;32m<ipython-input-6-270391642fa6>\u001b[0m in \u001b[0;36m<module>\u001b[0;34m()\u001b[0m\n\u001b[0;32m----> 1\u001b[0;31m \u001b[0;32mimport\u001b[0m \u001b[0mpyaudio\u001b[0m\u001b[0;34m\u001b[0m\u001b[0;34m\u001b[0m\u001b[0m\n\u001b[0m\u001b[1;32m      2\u001b[0m \u001b[0;32mimport\u001b[0m \u001b[0mos\u001b[0m\u001b[0;34m\u001b[0m\u001b[0;34m\u001b[0m\u001b[0m\n\u001b[1;32m      3\u001b[0m \u001b[0;32mimport\u001b[0m \u001b[0mstruct\u001b[0m\u001b[0;34m\u001b[0m\u001b[0;34m\u001b[0m\u001b[0m\n\u001b[1;32m      4\u001b[0m \u001b[0;32mimport\u001b[0m \u001b[0mnumpy\u001b[0m \u001b[0;32mas\u001b[0m \u001b[0mnp\u001b[0m\u001b[0;34m\u001b[0m\u001b[0;34m\u001b[0m\u001b[0m\n\u001b[1;32m      5\u001b[0m \u001b[0;32mimport\u001b[0m \u001b[0mmatplotlib\u001b[0m\u001b[0;34m.\u001b[0m\u001b[0mpyplot\u001b[0m \u001b[0;32mas\u001b[0m \u001b[0mplt\u001b[0m\u001b[0;34m\u001b[0m\u001b[0;34m\u001b[0m\u001b[0m\n",
            "\u001b[0;31mModuleNotFoundError\u001b[0m: No module named 'pyaudio'",
            "",
            "\u001b[0;31m---------------------------------------------------------------------------\u001b[0;32m\nNOTE: If your import is failing due to a missing package, you can\nmanually install dependencies using either !pip or !apt.\n\nTo view examples of installing some common dependencies, click the\n\"Open Examples\" button below.\n\u001b[0;31m---------------------------------------------------------------------------\u001b[0m\n"
          ]
        }
      ]
    },
    {
      "cell_type": "markdown",
      "metadata": {
        "id": "K3HsH8B-MNmT",
        "colab_type": "text"
      },
      "source": [
        "Add this line to make sure the matplotlib graph opens in a seperate window. Else real-time plotting would be impossible."
      ]
    },
    {
      "cell_type": "code",
      "metadata": {
        "id": "gMZCk83tMNmU",
        "colab_type": "code",
        "colab": {}
      },
      "source": [
        "%matplotlib tk"
      ],
      "execution_count": 0,
      "outputs": []
    },
    {
      "cell_type": "markdown",
      "metadata": {
        "id": "HBbdaViFMNmW",
        "colab_type": "text"
      },
      "source": [
        "Declaring the constants\n",
        "* CHUNK: Samples per frame\n",
        "* FORMAT: Audio format\n",
        "* CHANNEL: Single channel for microphone (Multi-channel won't work in this program)\n",
        "* RATE: Samples per second (44,1kHz is the most common)\n"
      ]
    },
    {
      "cell_type": "code",
      "metadata": {
        "id": "G4IZS7WhMNmX",
        "colab_type": "code",
        "colab": {}
      },
      "source": [
        "CHUNK = 1024 * 2             \n",
        "FORMAT = pyaudio.paInt16     \n",
        "CHANNELS = 1                  \n",
        "RATE = 44100"
      ],
      "execution_count": 0,
      "outputs": []
    },
    {
      "cell_type": "markdown",
      "metadata": {
        "id": "9vD0Mc7UMNma",
        "colab_type": "text"
      },
      "source": [
        "Use the PyAudio library to create an audio input and output stream with the previously declared constants."
      ]
    },
    {
      "cell_type": "code",
      "metadata": {
        "id": "gYimc1SmMNmb",
        "colab_type": "code",
        "colab": {}
      },
      "source": [
        "p = pyaudio.PyAudio()\n",
        "\n",
        "inputstream = p.open(\n",
        "    format=FORMAT,\n",
        "    channels=CHANNELS,\n",
        "    rate=RATE,\n",
        "    input=True,\n",
        "    output=True,\n",
        "    frames_per_buffer=CHUNK\n",
        ")\n",
        "\n",
        "outputstream = p.open(\n",
        "    format=FORMAT,\n",
        "    channels=CHANNELS,\n",
        "    rate=RATE,\n",
        "    input=True,\n",
        "    output=True,\n",
        "    frames_per_buffer=CHUNK\n",
        ")"
      ],
      "execution_count": 0,
      "outputs": []
    },
    {
      "cell_type": "markdown",
      "metadata": {
        "id": "91BRE3GuMNmf",
        "colab_type": "text"
      },
      "source": [
        "Prepare a matplotlib plot, where `line` resembles the input stream, and `line_mirror` the input stream mirrored in `y=128` (the anti sound used to cancel the input sound)."
      ]
    },
    {
      "cell_type": "code",
      "metadata": {
        "id": "a2GmQzpsMNmg",
        "colab_type": "code",
        "colab": {}
      },
      "source": [
        "x = np.arange(0, 2 * CHUNK, 2)\n",
        "\n",
        "line, = ax.plot(x, np.random.rand(CHUNK), '-', lw=1, mec=(255, 0, 0, 1))\n",
        "line_mirror, = ax.plot(x, np.random.rand(CHUNK), '-', lw=1, mec=(0, 0, 255, 1))\n",
        "\n",
        "ax.set_title('AUDIO WAVEFORM')\n",
        "ax.set_xlabel('samples')\n",
        "ax.set_ylabel('amplitude')\n",
        "ax.set_ylim(0, 255)\n",
        "ax.set_xlim(0, 2 * CHUNK)\n",
        "plt.setp(ax, xticks=[], yticks=[])\n",
        "\n",
        "plt.show(block=False)"
      ],
      "execution_count": 0,
      "outputs": []
    },
    {
      "cell_type": "markdown",
      "metadata": {
        "id": "asT5vrkFMNmj",
        "colab_type": "text"
      },
      "source": [
        "Declaring some values to mease the frame rate of the plot later."
      ]
    },
    {
      "cell_type": "code",
      "metadata": {
        "id": "AtHJ4E5DMNmk",
        "colab_type": "code",
        "colab": {}
      },
      "source": [
        "print('stream started')\n",
        "\n",
        "frame_count = 0\n",
        "start_time = time.time()"
      ],
      "execution_count": 0,
      "outputs": []
    },
    {
      "cell_type": "markdown",
      "metadata": {
        "id": "VLarg43lMNmm",
        "colab_type": "text"
      },
      "source": [
        "In the first block the inputstream is converted from binary, to an integer list, to a numpy array. Then the anti sound is calculated and converted back to binary. And finally `outputstream.write` outputs the anti sound to the speakers.<br/>\n",
        "In the second block the lines of the sound and anti sound as well as the plot itself are displayed. <br/>\n",
        "In the third block the framerate is calculated and printed when the program ends."
      ]
    },
    {
      "cell_type": "code",
      "metadata": {
        "id": "MegQ7xfYMNmn",
        "colab_type": "code",
        "colab": {}
      },
      "source": [
        "while True:\n",
        "\n",
        "    data = inputstream.read(CHUNK)\n",
        "    data_int = struct.unpack(str(2 * CHUNK) + 'B', data)\n",
        "    data_np = np.array(data_int, dtype='b')[::2] + 128\n",
        "    data_np_mirror = 128 - (data_np - 128)\n",
        "    data_int_mirror = (data_np_mirror - 128).tolist()\n",
        "    data_mirror = struct.pack(str(CHUNK) + 'h', *data_int_mirror)\n",
        "    outputstream.write(data_mirror)\n",
        "\n",
        "    line.set_ydata(data_np)\n",
        "    line_mirror.set_ydata(data_np_mirror)\n",
        "    try:\n",
        "        fig.canvas.draw()\n",
        "        fig.canvas.flush_events()\n",
        "        frame_count += 1\n",
        "\n",
        "    except TclError:\n",
        "        frame_rate = frame_count / (time.time() - start_time)\n",
        "        print('stream stopped')\n",
        "        print('average frame rate = {:.0f} FPS'.format(frame_rate))\n",
        "        break"
      ],
      "execution_count": 0,
      "outputs": []
    }
  ]
}