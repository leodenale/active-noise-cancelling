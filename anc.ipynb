{
  "nbformat": 4,
  "nbformat_minor": 0,
  "metadata": {
    "file_extension": ".py",
    "kernelspec": {
      "display_name": "Python 3",
      "language": "python",
      "name": "python3"
    },
    "language_info": {
      "codemirror_mode": {
        "name": "ipython",
        "version": 3
      },
      "file_extension": ".py",
      "mimetype": "text/x-python",
      "name": "python",
      "nbconvert_exporter": "python",
      "pygments_lexer": "ipython3",
      "version": "3.7.3"
    },
    "mimetype": "text/x-python",
    "name": "python",
    "npconvert_exporter": "python",
    "pygments_lexer": "ipython3",
    "version": 3,
    "colab": {
      "name": "anc.ipynb",
      "provenance": [],
      "include_colab_link": true
    }
  },
  "cells": [
    {
      "cell_type": "markdown",
      "metadata": {
        "id": "view-in-github",
        "colab_type": "text"
      },
      "source": [
        "<a href=\"https://colab.research.google.com/github/leodenale/active-noise-cancelling/blob/master/anc.ipynb\" target=\"_parent\"><img src=\"https://colab.research.google.com/assets/colab-badge.svg\" alt=\"Open In Colab\"/></a>"
      ]
    },
    {
      "cell_type": "markdown",
      "metadata": {
        "id": "TGrjOuejMNmM",
        "colab_type": "text"
      },
      "source": [
        "# Active noise cancelling in Python"
      ]
    },
    {
      "cell_type": "code",
      "metadata": {
        "id": "SUfsY27NMfTN",
        "colab_type": "code",
        "colab": {
          "base_uri": "https://localhost:8080/",
          "height": 123
        },
        "outputId": "bed51ed3-2f64-424d-fbc6-a9e5834e86db"
      },
      "source": [
        "# Install pyaudio package\n",
        "#!pip install pyaudio -- Error on Colab\n",
        "#!apt-get install python-pyaudio -- Error on Colab\n",
        "!git clone http://people.csail.mit.edu/hubert/git/pyaudio.git   # Works on Colab!"
      ],
      "execution_count": 7,
      "outputs": [
        {
          "output_type": "stream",
          "text": [
            "Cloning into 'pyaudio'...\n",
            "remote: Counting objects: 922, done.\u001b[K\n",
            "remote: Compressing objects: 100% (606/606), done.\u001b[K\n",
            "remote: Total 922 (delta 571), reused 456 (delta 275)\u001b[K\n",
            "Receiving objects: 100% (922/922), 343.10 KiB | 1.63 MiB/s, done.\n",
            "Resolving deltas: 100% (571/571), done.\n"
          ],
          "name": "stdout"
        }
      ]
    },
    {
      "cell_type": "markdown",
      "metadata": {
        "id": "1M88f1QVMNmO",
        "colab_type": "text"
      },
      "source": [
        "*Import* the necessary libraries"
      ]
    },
    {
      "cell_type": "code",
      "metadata": {
        "id": "ixqpaGQpMNmP",
        "colab_type": "code",
        "colab": {}
      },
      "source": [
        "import pyaudio\n",
        "import os\n",
        "import struct\n",
        "import numpy as np\n",
        "import matplotlib.pyplot as plt\n",
        "import time\n",
        "from tkinter import TclError"
      ],
      "execution_count": 0,
      "outputs": []
    },
    {
      "cell_type": "markdown",
      "metadata": {
        "id": "K3HsH8B-MNmT",
        "colab_type": "text"
      },
      "source": [
        "Add this line to make sure the matplotlib graph opens in a seperate window. Else real-time plotting would be impossible."
      ]
    },
    {
      "cell_type": "code",
      "metadata": {
        "id": "gMZCk83tMNmU",
        "colab_type": "code",
        "colab": {}
      },
      "source": [
        "%matplotlib tk"
      ],
      "execution_count": 0,
      "outputs": []
    },
    {
      "cell_type": "markdown",
      "metadata": {
        "id": "HBbdaViFMNmW",
        "colab_type": "text"
      },
      "source": [
        "Declaring the constants\n",
        "* CHUNK: Samples per frame\n",
        "* FORMAT: Audio format\n",
        "* CHANNEL: Single channel for microphone (Multi-channel won't work in this program)\n",
        "* RATE: Samples per second (44,1kHz is the most common)\n"
      ]
    },
    {
      "cell_type": "code",
      "metadata": {
        "id": "G4IZS7WhMNmX",
        "colab_type": "code",
        "colab": {}
      },
      "source": [
        "CHUNK = 1024 * 2             \n",
        "FORMAT = 8 #pyaudio.paInt16     \n",
        "CHANNELS = 1                  \n",
        "RATE = 44100"
      ],
      "execution_count": 0,
      "outputs": []
    },
    {
      "cell_type": "markdown",
      "metadata": {
        "id": "9vD0Mc7UMNma",
        "colab_type": "text"
      },
      "source": [
        "Use the PyAudio library to create an audio input and output stream with the previously declared constants."
      ]
    },
    {
      "cell_type": "code",
      "metadata": {
        "id": "gYimc1SmMNmb",
        "colab_type": "code",
        "colab": {
          "base_uri": "https://localhost:8080/",
          "height": 238
        },
        "outputId": "f1ce9012-f35e-4e52-a29a-64e3e8922521"
      },
      "source": [
        "p = pyaudio.PyAudio()\n",
        "\n",
        "inputstream = p.open(\n",
        "    format=FORMAT,\n",
        "    channels=CHANNELS,\n",
        "    rate=RATE,\n",
        "    input=True,\n",
        "    output=True,\n",
        "    frames_per_buffer=CHUNK\n",
        ")\n",
        "\n",
        "outputstream = p.open(\n",
        "    format=FORMAT,\n",
        "    channels=CHANNELS,\n",
        "    rate=RATE,\n",
        "    input=True,\n",
        "    output=True,\n",
        "    frames_per_buffer=CHUNK\n",
        ")"
      ],
      "execution_count": 13,
      "outputs": [
        {
          "output_type": "error",
          "ename": "AttributeError",
          "evalue": "ignored",
          "traceback": [
            "\u001b[0;31m---------------------------------------------------------------------------\u001b[0m",
            "\u001b[0;31mAttributeError\u001b[0m                            Traceback (most recent call last)",
            "\u001b[0;32m<ipython-input-13-295301592274>\u001b[0m in \u001b[0;36m<module>\u001b[0;34m()\u001b[0m\n\u001b[0;32m----> 1\u001b[0;31m \u001b[0mp\u001b[0m \u001b[0;34m=\u001b[0m \u001b[0mpyaudio\u001b[0m\u001b[0;34m.\u001b[0m\u001b[0mPyAudio\u001b[0m\u001b[0;34m(\u001b[0m\u001b[0;34m)\u001b[0m\u001b[0;34m\u001b[0m\u001b[0;34m\u001b[0m\u001b[0m\n\u001b[0m\u001b[1;32m      2\u001b[0m \u001b[0;34m\u001b[0m\u001b[0m\n\u001b[1;32m      3\u001b[0m inputstream = p.open(\n\u001b[1;32m      4\u001b[0m     \u001b[0mformat\u001b[0m\u001b[0;34m=\u001b[0m\u001b[0mFORMAT\u001b[0m\u001b[0;34m,\u001b[0m\u001b[0;34m\u001b[0m\u001b[0;34m\u001b[0m\u001b[0m\n\u001b[1;32m      5\u001b[0m     \u001b[0mchannels\u001b[0m\u001b[0;34m=\u001b[0m\u001b[0mCHANNELS\u001b[0m\u001b[0;34m,\u001b[0m\u001b[0;34m\u001b[0m\u001b[0;34m\u001b[0m\u001b[0m\n",
            "\u001b[0;31mAttributeError\u001b[0m: module 'pyaudio' has no attribute 'PyAudio'"
          ]
        }
      ]
    },
    {
      "cell_type": "markdown",
      "metadata": {
        "id": "91BRE3GuMNmf",
        "colab_type": "text"
      },
      "source": [
        "Prepare a matplotlib plot, where `line` resembles the input stream, and `line_mirror` the input stream mirrored in `y=128` (the anti sound used to cancel the input sound)."
      ]
    },
    {
      "cell_type": "code",
      "metadata": {
        "id": "a2GmQzpsMNmg",
        "colab_type": "code",
        "colab": {}
      },
      "source": [
        "x = np.arange(0, 2 * CHUNK, 2)\n",
        "\n",
        "line, = ax.plot(x, np.random.rand(CHUNK), '-', lw=1, mec=(255, 0, 0, 1))\n",
        "line_mirror, = ax.plot(x, np.random.rand(CHUNK), '-', lw=1, mec=(0, 0, 255, 1))\n",
        "\n",
        "ax.set_title('AUDIO WAVEFORM')\n",
        "ax.set_xlabel('samples')\n",
        "ax.set_ylabel('amplitude')\n",
        "ax.set_ylim(0, 255)\n",
        "ax.set_xlim(0, 2 * CHUNK)\n",
        "plt.setp(ax, xticks=[], yticks=[])\n",
        "\n",
        "plt.show(block=False)"
      ],
      "execution_count": 0,
      "outputs": []
    },
    {
      "cell_type": "markdown",
      "metadata": {
        "id": "asT5vrkFMNmj",
        "colab_type": "text"
      },
      "source": [
        "Declaring some values to mease the frame rate of the plot later."
      ]
    },
    {
      "cell_type": "code",
      "metadata": {
        "id": "AtHJ4E5DMNmk",
        "colab_type": "code",
        "colab": {}
      },
      "source": [
        "print('stream started')\n",
        "\n",
        "frame_count = 0\n",
        "start_time = time.time()"
      ],
      "execution_count": 0,
      "outputs": []
    },
    {
      "cell_type": "markdown",
      "metadata": {
        "id": "VLarg43lMNmm",
        "colab_type": "text"
      },
      "source": [
        "In the first block the inputstream is converted from binary, to an integer list, to a numpy array. Then the anti sound is calculated and converted back to binary. And finally `outputstream.write` outputs the anti sound to the speakers.<br/>\n",
        "In the second block the lines of the sound and anti sound as well as the plot itself are displayed. <br/>\n",
        "In the third block the framerate is calculated and printed when the program ends."
      ]
    },
    {
      "cell_type": "code",
      "metadata": {
        "id": "MegQ7xfYMNmn",
        "colab_type": "code",
        "colab": {}
      },
      "source": [
        "while True:\n",
        "\n",
        "    data = inputstream.read(CHUNK)\n",
        "    data_int = struct.unpack(str(2 * CHUNK) + 'B', data)\n",
        "    data_np = np.array(data_int, dtype='b')[::2] + 128\n",
        "    data_np_mirror = 128 - (data_np - 128)\n",
        "    data_int_mirror = (data_np_mirror - 128).tolist()\n",
        "    data_mirror = struct.pack(str(CHUNK) + 'h', *data_int_mirror)\n",
        "    outputstream.write(data_mirror)\n",
        "\n",
        "    line.set_ydata(data_np)\n",
        "    line_mirror.set_ydata(data_np_mirror)\n",
        "    try:\n",
        "        fig.canvas.draw()\n",
        "        fig.canvas.flush_events()\n",
        "        frame_count += 1\n",
        "\n",
        "    except TclError:\n",
        "        frame_rate = frame_count / (time.time() - start_time)\n",
        "        print('stream stopped')\n",
        "        print('average frame rate = {:.0f} FPS'.format(frame_rate))\n",
        "        break"
      ],
      "execution_count": 0,
      "outputs": []
    }
  ]
}